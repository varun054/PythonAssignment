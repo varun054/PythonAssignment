{
 "cells": [
  {
   "cell_type": "code",
   "execution_count": null,
   "metadata": {},
   "outputs": [],
   "source": [
    "import math\n",
    "import os\n",
    "import random\n",
    "import re\n",
    "import sys\n",
    "\n",
    "def surfaceArea(A):\n",
    "    area = 0\n",
    "    for y in range(H):\n",
    "        for x in range(W):\n",
    "            h = A[y][x]\n",
    "            area += 2+4*h\n",
    "            if x>0:\n",
    "                hl = A[y][x-1]\n",
    "                area -= min(hl,h)\n",
    "            if x<W-1:\n",
    "                hr = A[y][x+1]\n",
    "                area -= min(hr,h)\n",
    "            if y>0:\n",
    "                hu = A[y-1][x]\n",
    "                area -= min(hu,h)\n",
    "            if y<H-1:\n",
    "                hd = A[y+1][x]\n",
    "                area -= min(hd,h)\n",
    "    return area\n",
    "\n",
    "if __name__ == '__main__':\n",
    "    os.environ[\"OUTPUT_PATH\"] = os.environ['HOME']+\"/output.txt\"\n",
    "    fptr = open(os.environ['OUTPUT_PATH'], 'w')\n",
    "    \n",
    "    while True:\n",
    "        try:\n",
    "            HW = input().split()\n",
    "            H = int(HW[0])\n",
    "            W = int(HW[1])\n",
    "        except:\n",
    "            print('That is not an integer. Try again.')\n",
    "            continue\n",
    "        else:\n",
    "            if 1 <= H <= 100 and 1 <= W <= 100 :\n",
    "                break\n",
    "            else:\n",
    "                print(H)\n",
    "                print ('Only 1 to 100 allowed. Try again')\n",
    "        \n",
    "    A = []\n",
    "    for _ in range(H):\n",
    "        A.append(list(map(int, input().rstrip().split())))\n",
    "        \n",
    "    result = surfaceArea(A)\n",
    "    print(result)\n",
    "    fptr.write(str(result) + '\\n')\n",
    "\n",
    "    fptr.close()"
   ]
  },
  {
   "cell_type": "code",
   "execution_count": null,
   "metadata": {
    "collapsed": true
   },
   "outputs": [],
   "source": []
  }
 ],
 "metadata": {
  "kernelspec": {
   "display_name": "Python 3",
   "language": "python",
   "name": "python3"
  },
  "language_info": {
   "codemirror_mode": {
    "name": "ipython",
    "version": 3
   },
   "file_extension": ".py",
   "mimetype": "text/x-python",
   "name": "python",
   "nbconvert_exporter": "python",
   "pygments_lexer": "ipython3",
   "version": "3.6.3"
  }
 },
 "nbformat": 4,
 "nbformat_minor": 2
}
