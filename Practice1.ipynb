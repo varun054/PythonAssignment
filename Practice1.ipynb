{
 "cells": [
  {
   "cell_type": "code",
   "execution_count": 3,
   "metadata": {},
   "outputs": [
    {
     "name": "stdout",
     "output_type": "stream",
     "text": [
      "Enter the number: -89\n"
     ]
    }
   ],
   "source": [
    "x = int(input('Enter the number: '))"
   ]
  },
  {
   "cell_type": "code",
   "execution_count": 4,
   "metadata": {},
   "outputs": [
    {
     "name": "stdout",
     "output_type": "stream",
     "text": [
      "Negative changed to zero!\n"
     ]
    }
   ],
   "source": [
    "if x<0:\n",
    "    x=0\n",
    "    print('Negative changed to zero!')\n",
    "elif x==0:\n",
    "    print('Zero')\n",
    "elif x==1:\n",
    "    print('Single')\n",
    "else:\n",
    "    print('More')\n"
   ]
  },
  {
   "cell_type": "code",
   "execution_count": 2,
   "metadata": {},
   "outputs": [
    {
     "data": {
      "text/plain": [
       "8"
      ]
     },
     "execution_count": 2,
     "metadata": {},
     "output_type": "execute_result"
    }
   ],
   "source": [
    "17//2"
   ]
  },
  {
   "cell_type": "code",
   "execution_count": 4,
   "metadata": {},
   "outputs": [
    {
     "data": {
      "text/plain": [
       "128"
      ]
     },
     "execution_count": 4,
     "metadata": {},
     "output_type": "execute_result"
    }
   ],
   "source": [
    "2**7"
   ]
  },
  {
   "cell_type": "code",
   "execution_count": 7,
   "metadata": {},
   "outputs": [
    {
     "name": "stdout",
     "output_type": "stream",
     "text": [
      "C:\\Hello\\nArun\n"
     ]
    }
   ],
   "source": [
    "print(r'C:\\Hello\\nArun')"
   ]
  },
  {
   "cell_type": "code",
   "execution_count": 8,
   "metadata": {},
   "outputs": [
    {
     "data": {
      "text/plain": [
       "[1, 4, 9, 16, 25]"
      ]
     },
     "execution_count": 8,
     "metadata": {},
     "output_type": "execute_result"
    }
   ],
   "source": [
    "squares = [1, 4, 9, 16, 25]\n",
    "squares"
   ]
  },
  {
   "cell_type": "code",
   "execution_count": 13,
   "metadata": {},
   "outputs": [
    {
     "data": {
      "text/plain": [
       "[1, 4, 9, 16, 25]"
      ]
     },
     "execution_count": 13,
     "metadata": {},
     "output_type": "execute_result"
    }
   ],
   "source": [
    "squares[:]"
   ]
  },
  {
   "cell_type": "code",
   "execution_count": null,
   "metadata": {
    "collapsed": true
   },
   "outputs": [],
   "source": [
    "def fib(n):\n",
    "    a,b=0,1\n",
    "    while a<b:\n",
    "        print(a, end=' ')\n",
    "        "
   ]
  },
  {
   "cell_type": "code",
   "execution_count": 9,
   "metadata": {},
   "outputs": [
    {
     "name": "stdout",
     "output_type": "stream",
     "text": [
      "Play as a computer or human?human\n",
      "It's player 1 turn\n",
      "How many sticks are you taking off? (1-4)\n",
      "Enter your choice: 4\n",
      "You have taken off 4 sticks\n",
      "and there are 27 left\n",
      "It's player 2 turn\n",
      "How many sticks are you taking off? (1-4)\n",
      "Enter your choice: 3\n",
      "You have taken off 3 sticks\n",
      "and there are 24 left\n",
      "It's player 1 turn\n",
      "How many sticks are you taking off? (1-4)\n",
      "Enter your choice: 4\n",
      "You have taken off 4 sticks\n",
      "and there are 20 left\n",
      "It's player 2 turn\n",
      "How many sticks are you taking off? (1-4)\n",
      "Enter your choice: 3\n",
      "You have taken off 3 sticks\n",
      "and there are 17 left\n",
      "It's player 1 turn\n",
      "How many sticks are you taking off? (1-4)\n",
      "Enter your choice: 5\n",
      "invalid choice, please pick 1,2,3, or 4 number of sticks to take off\n",
      "How many sticks are you taking off? (1-4)\n",
      "Enter your choice: 2\n",
      "You have taken off 2 sticks\n",
      "and there are 15 left\n",
      "It's player 2 turn\n",
      "How many sticks are you taking off? (1-4)\n",
      "Enter your choice: 3\n",
      "You have taken off 3 sticks\n",
      "and there are 12 left\n",
      "It's player 1 turn\n",
      "How many sticks are you taking off? (1-4)\n",
      "Enter your choice: 1\n",
      "You have taken off 1 sticks\n",
      "and there are 11 left\n",
      "It's player 2 turn\n",
      "How many sticks are you taking off? (1-4)\n",
      "Enter your choice: 3\n",
      "You have taken off 3 sticks\n",
      "and there are 8 left\n",
      "It's player 1 turn\n",
      "How many sticks are you taking off? (1-4)\n",
      "Enter your choice: 4\n",
      "You have taken off 4 sticks\n",
      "and there are 4 left\n",
      "It's player 2 turn\n",
      "How many sticks are you taking off? (1-4)\n",
      "Enter your choice: 2\n",
      "You have taken off 2 sticks\n",
      "and there are 2 left\n",
      "It's player 1 turn\n",
      "How many sticks are you taking off? (1-2)\n",
      "Enter your choice: 4\n",
      "invalid choice, please pick 1,2,3, or 4 number of sticks to take off\n",
      "How many sticks are you taking off? (1-2)\n",
      "Enter your choice: 1\n",
      "You have taken off 1 sticks\n",
      "and there are 1 left\n",
      "It's player 2 turn\n",
      "How many sticks are you taking off? (1-1)\n",
      "Enter your choice: 1\n",
      "You have taken off 1 sticks\n",
      "and there are 0 left\n"
     ]
    }
   ],
   "source": [
    "import random\n",
    "while True:\n",
    "    user = input(\"Play as a computer or human?\")\n",
    "    if user=='computer' or user=='human':\n",
    "        break\n",
    "    print('Please select correct user.')\n",
    "    \n",
    "sticks = 31\n",
    "    \n",
    "if user=='computer':\n",
    "    computer=random.randint(1,4)\n",
    "    \n",
    "while sticks>0:\n",
    "    for turn in range(1,3):\n",
    "        if turn==1:\n",
    "            print(\"It's player 1 turn\")\n",
    "        elif turn==2:\n",
    "            print(\"It's player 2 turn\")\n",
    "        if sticks > 4:\n",
    "            max_sticks = 4\n",
    "        else:\n",
    "            max_sticks = sticks\n",
    "        \n",
    "        while True:\n",
    "            print(\"How many sticks are you taking off? (1-{max_sticks})\".format(max_sticks=min(4,max_sticks)))\n",
    "            sticks_taken = int(input(\"Enter your choice: \"))\n",
    "            if sticks_taken>=1 and sticks_taken<=max_sticks:\n",
    "                print(\"You have taken off\", sticks_taken, \"sticks\")\n",
    "                break\n",
    "            else:\n",
    "                print (\"invalid choice, please pick 1,2,3, or 4 number of sticks to take off\")\n",
    "        sticks-=sticks_taken\n",
    "        print(\"and there are\", sticks, \"left\")\n",
    "        if sticks==0:\n",
    "            break\n",
    "if turn=='1':\n",
    "    print(\"Sorry! Computer wins!\")\n",
    "if turn=='2':\n",
    "    print('Congratulations! you win')\n",
    "    \n",
    "\n",
    "        "
   ]
  },
  {
   "cell_type": "code",
   "execution_count": null,
   "metadata": {
    "collapsed": true
   },
   "outputs": [],
   "source": []
  }
 ],
 "metadata": {
  "kernelspec": {
   "display_name": "Python 3",
   "language": "python",
   "name": "python3"
  },
  "language_info": {
   "codemirror_mode": {
    "name": "ipython",
    "version": 3
   },
   "file_extension": ".py",
   "mimetype": "text/x-python",
   "name": "python",
   "nbconvert_exporter": "python",
   "pygments_lexer": "ipython3",
   "version": "3.6.3"
  }
 },
 "nbformat": 4,
 "nbformat_minor": 2
}
