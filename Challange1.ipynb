{
 "cells": [
  {
   "cell_type": "code",
   "execution_count": 6,
   "metadata": {
    "scrolled": false
   },
   "outputs": [
    {
     "name": "stdout",
     "output_type": "stream",
     "text": [
      "Enter the area: 4\n",
      "Enter the base: 7\n",
      "Minimum height is: 2\n"
     ]
    }
   ],
   "source": [
    "import math\n",
    " \n",
    "def mHeight(area,base):\n",
    "        return math.ceil((2*area)/base)\n",
    "    \n",
    "    \n",
    "while True:\n",
    "    try:\n",
    "        area = int(input('Enter the area: '))\n",
    "        \n",
    "    except:\n",
    "        print('That is not an integer. Try again.')\n",
    "        continue\n",
    "    else:\n",
    "        if 1 <= area < math.pow(10,6):\n",
    "            break\n",
    "        else:\n",
    "            print ('Out of range value. Try again')\n",
    "        \n",
    "while True:\n",
    "    try:\n",
    "        base = int(input('Enter the base: '))\n",
    "    except:\n",
    "        print('That is not an integer. Try again.')\n",
    "        continue\n",
    "    else:\n",
    "        if 1 <= area < math.pow(10,6):\n",
    "            break\n",
    "        else:\n",
    "            print ('Out of range value. Try again')       \n",
    "                    \n",
    "height = mHeight(area, base)\n",
    "print(\"Minimum height is: %d\" % (height))"
   ]
  }
 ],
 "metadata": {
  "kernelspec": {
   "display_name": "Python 3",
   "language": "python",
   "name": "python3"
  },
  "language_info": {
   "codemirror_mode": {
    "name": "ipython",
    "version": 3
   },
   "file_extension": ".py",
   "mimetype": "text/x-python",
   "name": "python",
   "nbconvert_exporter": "python",
   "pygments_lexer": "ipython3",
   "version": "3.6.5"
  }
 },
 "nbformat": 4,
 "nbformat_minor": 2
}
