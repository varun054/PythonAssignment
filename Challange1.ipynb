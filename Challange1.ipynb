{
 "cells": [
  {
   "cell_type": "code",
   "execution_count": null,
   "metadata": {
    "scrolled": false
   },
   "outputs": [],
   "source": [
    "import math\n",
    " \n",
    "def mHeight(area,base):\n",
    "        return math.ceil((2*area)/base)\n",
    "    \n",
    "    \n",
    "while True:\n",
    "    try:\n",
    "        area = int(input('Enter an area: '))\n",
    "        maxVal=math.pow(10,6)\n",
    "        if area>=1 and area<=math.pow(10,6):\n",
    "\n",
    "    except:\n",
    "        print('That is not an integer. Try again.')\n",
    "        continue\n",
    "    else:\n",
    "        break\n",
    "        \n",
    "while True:\n",
    "    try:\n",
    "        base = int(input('Enter a base: '))\n",
    "    except:\n",
    "        print('That is not an integer. Try again.')\n",
    "        continue\n",
    "    else:\n",
    "        break        \n",
    "                    \n",
    "height = mHeight(area, base)\n",
    "print(\"Minimum height is %d\" % (height))"
   ]
  },
  {
   "cell_type": "code",
   "execution_count": null,
   "metadata": {},
   "outputs": [],
   "source": []
  },
  {
   "cell_type": "code",
   "execution_count": null,
   "metadata": {},
   "outputs": [],
   "source": []
  }
 ],
 "metadata": {
  "kernelspec": {
   "display_name": "Python 3",
   "language": "python",
   "name": "python3"
  },
  "language_info": {
   "codemirror_mode": {
    "name": "ipython",
    "version": 3
   },
   "file_extension": ".py",
   "mimetype": "text/x-python",
   "name": "python",
   "nbconvert_exporter": "python",
   "pygments_lexer": "ipython3",
   "version": "3.6.5"
  }
 },
 "nbformat": 4,
 "nbformat_minor": 2
}
